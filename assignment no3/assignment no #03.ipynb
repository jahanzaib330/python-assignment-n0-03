{
 "cells": [
  {
   "cell_type": "code",
   "execution_count": 1,
   "id": "60f7eda2",
   "metadata": {},
   "outputs": [
    {
     "name": "stdout",
     "output_type": "stream",
     "text": [
      "Twinkel,twinkel,little star \n",
      "         How I wounder what you are! \n",
      "             Up above the world so high, \n",
      "             Like a diamond in the sky. \n",
      "Twinkel,twinkel,little star, \n",
      "         How I wounder what you are\n"
     ]
    }
   ],
   "source": [
    "# Question # 01\n",
    "# Write a python program to print the following string in a specific format\n",
    "\n",
    "print(\"Answer no 1 :\")\n",
    "print(\"Twinkel,twinkel,little star \\n         How I wounder what you are! \\n             Up above the world so high, \\n             Like a diamond in the sky. \\nTwinkel,twinkel,little star, \\n         How I wounder what you are\");"
   ]
  },
  {
   "cell_type": "code",
   "execution_count": 2,
   "id": "1c48dbbd",
   "metadata": {},
   "outputs": [
    {
     "name": "stdout",
     "output_type": "stream",
     "text": [
      "Answer no 2 :\n",
      "Python version : 3.8.8 (default, Apr 13 2021, 15:08:03) [MSC v.1916 64 bit (AMD64)]\n"
     ]
    }
   ],
   "source": [
    "# Question # 02\n",
    "# Write a pythone program to get the python version you are using\n",
    "\n",
    "import sys\n",
    "print(\"Answer no 2 :\")\n",
    "print(\"Python version : \"+ sys.version)"
   ]
  },
  {
   "cell_type": "code",
   "execution_count": 3,
   "id": "a780c864",
   "metadata": {},
   "outputs": [
    {
     "name": "stdout",
     "output_type": "stream",
     "text": [
      "Answer no 3 :\n",
      "2021-10-24 00:41:57.707771\n"
     ]
    }
   ],
   "source": [
    "# Question # 03\n",
    "# Write a python program to display the current date and time.\n",
    "\n",
    "import datetime\n",
    "print(\"Answer no 3 :\");\n",
    "print(datetime.datetime.now());\n"
   ]
  },
  {
   "cell_type": "code",
   "execution_count": 12,
   "id": "c1ff0b4c",
   "metadata": {},
   "outputs": [
    {
     "name": "stdout",
     "output_type": "stream",
     "text": [
      "Answer no 4 :\n",
      "Enter your radius6\n",
      "1163.8799999999999\n"
     ]
    }
   ],
   "source": [
    "# Question # 04\n",
    "# Write a python program which accept the radius of a circle from the user and compute the area\n",
    "\n",
    "print(\"Answer no 4 :\")\n",
    "pi = 32.33;\n",
    "r = int(input(\"Enter your radius\"));\n",
    "a = pi*r*r\n",
    "print(a);\n"
   ]
  },
  {
   "cell_type": "code",
   "execution_count": 5,
   "id": "858c52e7",
   "metadata": {},
   "outputs": [
    {
     "name": "stdout",
     "output_type": "stream",
     "text": [
      "Answer no 5 :\n",
      "Enter your first name : jahanzaib\n",
      "Enter your last name : muhammad junaid\n",
      "First & Last name reverse order is muhammad junaid jahanzaib\n"
     ]
    }
   ],
   "source": [
    "# Question # 05\n",
    "# Write a python program which assept the user's first and last name and print them in revarse the order with a space between them\n",
    "\n",
    "print(\"Answer no 5 :\")\n",
    "firstname = input(\"Enter your first name : \");\n",
    "lastname = input(\"Enter your last name : \");\n",
    "print(\"First & Last name reverse order is \"+lastname+ \" \" + firstname);\n"
   ]
  },
  {
   "cell_type": "code",
   "execution_count": 13,
   "id": "8f2f8fe3",
   "metadata": {},
   "outputs": [
    {
     "name": "stdout",
     "output_type": "stream",
     "text": [
      "Answer no 6 :\n",
      "Enter a number: 2\n",
      "Enter a number: 4\n",
      "The sum of number is: 6\n"
     ]
    }
   ],
   "source": [
    "# Question # 06\n",
    "# Wrie a python program which take two input from user and print addition.\n",
    "\n",
    "print(\"Answer no 6 :\")\n",
    "a = int(input(\"Enter a number: \"));\n",
    "b = int(input(\"Enter a number: \"));\n",
    "c = a+b;\n",
    "print(\"The sum of number is:\" , c);"
   ]
  },
  {
   "cell_type": "code",
   "execution_count": 14,
   "id": "6a09c398",
   "metadata": {},
   "outputs": [
    {
     "name": "stdout",
     "output_type": "stream",
     "text": [
      "Answer no 7 :\n",
      "Enter your computer number: 78\n",
      "Enter your physic number: 99\n",
      "Enter your maths number: 99\n",
      "Enter your english number: 99\n",
      "Enter your urdu number: 99\n",
      "Your totalmarks is:  474\n",
      "Your percentage is:  94.8\n",
      "Your Grade is:  A+\n"
     ]
    }
   ],
   "source": [
    "# Question # 07\n",
    "# Write a program which take 5 input from the user for different subjest's marks,total it and generate mark sheet using grades?\n",
    "\n",
    "print(\"Answer no 7 :\")\n",
    "computer = int(input(\"Enter your computer number: \"));\n",
    "physic = int(input(\"Enter your physic number: \"));\n",
    "math = int(input(\"Enter your maths number: \"));\n",
    "english = int(input(\"Enter your english number: \"));\n",
    "urdu = int(input(\"Enter your urdu number: \"));\n",
    "totalmarks = computer + physic + math + english + urdu;\n",
    "calculateper = (totalmarks/500)*100;\n",
    "print(\"Your totalmarks is: \",totalmarks);\n",
    "print(\"Your percentage is: \",calculateper);\n",
    "if calculateper == 100 or calculateper >=80:\n",
    "    print(\"Your Grade is:  A+\");\n",
    "elif calculateper == 80 or calculateper >=70:\n",
    "    print(\"Your Grade is: A\");\n",
    "elif calculateper == 70 or calculateper >=60:\n",
    "    print(\"Your Grade is: B\");\n",
    "elif calculateper == 60 or calculateper >=50:\n",
    "    print(\"Your Grade is: C\");\n",
    "elif calculateper == 50 or calculateper >=40:\n",
    "    print(\"Your Grade is: D\");\n",
    "elif calculateper == 40 or calculateper >=33:\n",
    "    print(\"Your Grade is: E\");\n",
    "else:\n",
    "    print(\"Fail\");"
   ]
  },
  {
   "cell_type": "code",
   "execution_count": 15,
   "id": "27ac6202",
   "metadata": {},
   "outputs": [
    {
     "name": "stdout",
     "output_type": "stream",
     "text": [
      "Answer no 8 :\n",
      "Enter a number: 2\n",
      "Even number\n"
     ]
    }
   ],
   "source": [
    "# Question # 08\n",
    "# Write a program which take input from user and identify that the given number is even or odd?\n",
    "\n",
    "print(\"Answer no 8 :\")\n",
    "a = int(input(\"Enter a number: \"));\n",
    "if a%2==0:\n",
    "    print(\"Even number\");\n",
    "else:\n",
    "    print(\"Odd number\");"
   ]
  },
  {
   "cell_type": "code",
   "execution_count": 16,
   "id": "bef5a3bb",
   "metadata": {},
   "outputs": [
    {
     "name": "stdout",
     "output_type": "stream",
     "text": [
      "Answer no 9 :\n",
      "The length of list is: 4\n"
     ]
    }
   ],
   "source": [
    "# Question # 09\n",
    "# Write a program which print the length of the list?\n",
    "\n",
    "print(\"Answer no 9 :\")\n",
    "listA = [\"jahanzaib\" , \"areeb\" , \"talha\" , \"muhammad ali mughal\"]\n",
    "\n",
    "print(\"The length of list is:\",len(listA))"
   ]
  },
  {
   "cell_type": "code",
   "execution_count": 18,
   "id": "cd364eff",
   "metadata": {},
   "outputs": [
    {
     "name": "stdout",
     "output_type": "stream",
     "text": [
      "Answer no 10 :\n",
      "How many numbers: 10\n",
      "Enter number3\n",
      "Enter number5\n",
      "Enter number67\n",
      "Enter number8\n",
      "Enter number5\n",
      "Enter number4\n",
      "Enter number3\n",
      "Enter number6\n",
      "Enter number7\n",
      "Enter number6\n",
      "Sum of all numer in given list: 114\n"
     ]
    }
   ],
   "source": [
    "# Question # 10\n",
    "# Write a python program to sum all the numeric item in the list?\n",
    "\n",
    "print(\"Answer no 10 :\")\n",
    "lst = []\n",
    "num = int(input(\"How many numbers: \"))\n",
    "for n in range(num):\n",
    "    number= int(input(\"Enter number\"))\n",
    "    lst.append(number)\n",
    "print(\"Sum of all numer in given list:\" ,sum(lst))"
   ]
  },
  {
   "cell_type": "markdown",
   "id": "b1442fd2",
   "metadata": {},
   "source": []
  },
  {
   "cell_type": "code",
   "execution_count": 19,
   "id": "3d4ea811",
   "metadata": {},
   "outputs": [
    {
     "name": "stdout",
     "output_type": "stream",
     "text": [
      "Answer no 12 :\n",
      "1\n",
      "1\n",
      "2\n",
      "3\n"
     ]
    }
   ],
   "source": [
    "print(\"Answer no 12 :\");\n",
    "number = [1,1,2,3,5,8,13,21,34,55,89];\n",
    "for a in number:\n",
    "    if a < 5:\n",
    "        print(a)"
   ]
  },
  {
   "cell_type": "code",
   "execution_count": null,
   "id": "a359b242",
   "metadata": {},
   "outputs": [],
   "source": []
  }
 ],
 "metadata": {
  "kernelspec": {
   "display_name": "Python 3",
   "language": "python",
   "name": "python3"
  },
  "language_info": {
   "codemirror_mode": {
    "name": "ipython",
    "version": 3
   },
   "file_extension": ".py",
   "mimetype": "text/x-python",
   "name": "python",
   "nbconvert_exporter": "python",
   "pygments_lexer": "ipython3",
   "version": "3.8.8"
  }
 },
 "nbformat": 4,
 "nbformat_minor": 5
}
